{
 "cells": [
  {
   "cell_type": "code",
   "execution_count": 15,
   "id": "6c123679",
   "metadata": {},
   "outputs": [
    {
     "name": "stdout",
     "output_type": "stream",
     "text": [
      "Enter th5e lower range of x: 0\n",
      "Enter the higher range of x: .2\n",
      "Enter the step size: .1\n",
      "[0. 0. 0.]\n",
      "[0. 0. 0.]\n",
      "enter the intial condition:\n",
      "\n",
      "x[0]: 0\n",
      "y[0]: 1\n",
      "Enter the method: h\n",
      "[0.  0.1 0.2]\n",
      "[1.      1.11    1.24205]\n",
      "None\n"
     ]
    }
   ],
   "source": [
    "import numpy as np\n",
    "import math\n",
    "\n",
    "l = float(input(\"Enter th5e lower range of x: \" ))\n",
    "u = float(input(\"Enter the higher range of x: \" ))\n",
    "h = float(input(\"Enter the step size: \"))\n",
    "\n",
    "def f(x,y):\n",
    "    return x+y\n",
    "n = int(((u-l)/h)+1)\n",
    "x = np.zeros(n)\n",
    "y = np.zeros(n)\n",
    "print(x)\n",
    "print(y)\n",
    "\n",
    "print(\"enter the intial condition:\\n\")\n",
    "x[0] = input(\"x[0]: \")\n",
    "y[0] = input(\"y[0]: \")\n",
    "\n",
    "def heuns(a):\n",
    "    for i in range(1,n):\n",
    "        k1 = a*f(x[i-1],y[i-1])\n",
    "        k2 = a*f(x[i-1]+a,y[i-1]+k1)\n",
    "        k = .5*(k1+k2)\n",
    "        y[i] = y[i-1]+k\n",
    "        x[i] = x[i-1]+a\n",
    "    print(x)\n",
    "    print(y)\n",
    "\n",
    "def midpoint(a):\n",
    "    for i in range(1,n):\n",
    "        k1 = a*f(x[i-1],y[i-1])\n",
    "        k2 = a*f(x[i-1]+a,y[i-1]+k1)\n",
    "        y[i] = y[i-1]+k2\n",
    "        x[i] = x[i-1]+a\n",
    "    print(x)\n",
    "    print(y)\n",
    "\n",
    "def ralston(a):\n",
    "    for i in range(1,n):\n",
    "        k1 = a*f(x[i-1],y[i-1])\n",
    "        k2 = a*f(x[i-1]+a,y[i-1]+k1)\n",
    "        k = (k1(1/3)+k2(2/3))\n",
    "        y[i] = y[i-1]+k\n",
    "        x[i] = x[i-1]+a\n",
    "    print(x)\n",
    "    print(y)\n",
    "\n",
    "def eulers(a):\n",
    "    for i in range(1,n):\n",
    "        y[i] = y[i-1]+f(x[i-1],y[i-1])*a\n",
    "        x[i] = x[i-1]+a\n",
    "    print(x)\n",
    "    print(y)\n",
    "\n",
    "    \n",
    "method = str(input(\"Enter the method(huens = h, midpoint = m, ralston = r): \"))\n",
    "\n",
    "if method == \"h\":\n",
    "    print(heuns(h))\n",
    "elif method == \"m\":\n",
    "    print(midpoint(h))\n",
    "elif method == \"r\":\n",
    "    print(ralston(h))\n",
    "if \n"
   ]
  },
  {
   "cell_type": "code",
   "execution_count": null,
   "id": "b0eb3503",
   "metadata": {},
   "outputs": [],
   "source": []
  }
 ],
 "metadata": {
  "kernelspec": {
   "display_name": "Python 3 (ipykernel)",
   "language": "python",
   "name": "python3"
  },
  "language_info": {
   "codemirror_mode": {
    "name": "ipython",
    "version": 3
   },
   "file_extension": ".py",
   "mimetype": "text/x-python",
   "name": "python",
   "nbconvert_exporter": "python",
   "pygments_lexer": "ipython3",
   "version": "3.9.11"
  }
 },
 "nbformat": 4,
 "nbformat_minor": 5
}
