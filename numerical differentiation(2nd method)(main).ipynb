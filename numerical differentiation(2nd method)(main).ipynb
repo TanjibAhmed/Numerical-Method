{
 "cells": [
  {
   "cell_type": "code",
   "execution_count": 6,
   "id": "25c637aa",
   "metadata": {},
   "outputs": [
    {
     "name": "stdout",
     "output_type": "stream",
     "text": [
      "Enter the step size: .25\n",
      "Enter the order of differentiation: 1\n",
      "Value to be differentiate: .5\n",
      "[0. 0. 0. 0. 0.]\n",
      "x:  [0.   0.25 0.5  0.75 1.  ]\n",
      "y:  [1.2        1.10351562 0.925      0.63632812 0.2       ]\n",
      "The first order forward differentiation is:  -0.8593750000000009\n"
     ]
    }
   ],
   "source": [
    "import numpy as np\n",
    "import math\n",
    "\n",
    "h = float(input(\"Enter the step size: \"))\n",
    "n = int(input(\"Enter the order of differentiation: \"))\n",
    "a = float(input(\"Value to be differentiate: \"))\n",
    "\n",
    "def f(x):\n",
    "    return -.1*x**4-.15*x**3-.5*x**2-.25*x+1.2\n",
    "\n",
    "\n",
    "m = 2*(n+1)+1\n",
    "x = np.zeros(m)\n",
    "y = np.zeros(m)\n",
    "print(x)\n",
    "\n",
    "for i in range (0,n+2):\n",
    "    x[n+1-i] = a-i*h\n",
    "    x[n+1+i] = a+i*h\n",
    "for i in range(0,m):\n",
    "    y[i] = f(x[i])\n",
    "print(\"x: \",x)\n",
    "print(\"y: \",y)\n",
    "\n",
    "# first order forward differentiation\n",
    "b = n+1\n",
    "der = ((-y[b+2])+(4*y[b+1])-(3*y[b]))/(2*h)\n",
    "print(\"The first order forward differentiation is: \",der)"
   ]
  },
  {
   "cell_type": "code",
   "execution_count": null,
   "id": "77aead15",
   "metadata": {},
   "outputs": [],
   "source": []
  }
 ],
 "metadata": {
  "kernelspec": {
   "display_name": "Python 3 (ipykernel)",
   "language": "python",
   "name": "python3"
  },
  "language_info": {
   "codemirror_mode": {
    "name": "ipython",
    "version": 3
   },
   "file_extension": ".py",
   "mimetype": "text/x-python",
   "name": "python",
   "nbconvert_exporter": "python",
   "pygments_lexer": "ipython3",
   "version": "3.9.11"
  }
 },
 "nbformat": 4,
 "nbformat_minor": 5
}
