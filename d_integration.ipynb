{
 "cells": [
  {
   "cell_type": "markdown",
   "id": "cab95996",
   "metadata": {},
   "source": [
    "#                                                         DOUBLE INTEGRATION"
   ]
  },
  {
   "cell_type": "markdown",
   "id": "126ec3a1",
   "metadata": {},
   "source": [
    "### Input section"
   ]
  },
  {
   "cell_type": "code",
   "execution_count": 4,
   "id": "10594a4f",
   "metadata": {},
   "outputs": [
    {
     "name": "stdout",
     "output_type": "stream",
     "text": [
      "Enter the lower limit of x integral:1\n",
      "Enter the upper limit of x integral:2\n",
      "Enter the lower limit of y integral:1\n",
      "Enter the upper limit of y integral:2\n",
      "Enter the interval:6\n",
      "the matrix form of the function: \n",
      "\n",
      "[[1.         1.16666667 1.33333333 1.5        1.66666667 1.83333333\n",
      "  2.        ]\n",
      " [1.16666667 1.36111111 1.55555556 1.75       1.94444444 2.13888889\n",
      "  2.33333333]\n",
      " [1.33333333 1.55555556 1.77777778 2.         2.22222222 2.44444444\n",
      "  2.66666667]\n",
      " [1.5        1.75       2.         2.25       2.5        2.75\n",
      "  3.        ]\n",
      " [1.66666667 1.94444444 2.22222222 2.5        2.77777778 3.05555556\n",
      "  3.33333333]\n",
      " [1.83333333 2.13888889 2.44444444 2.75       3.05555556 3.36111111\n",
      "  3.66666667]\n",
      " [2.         2.33333333 2.66666667 3.         3.33333333 3.66666667\n",
      "  4.        ]]\n"
     ]
    }
   ],
   "source": [
    "import numpy as np\n",
    "import math\n",
    "\n",
    "# inserting user defined input\n",
    "\n",
    "l_x = float(input(\"Enter the lower limit of x integral:\")) #4\n",
    "u_x = float(input(\"Enter the upper limit of x integral:\")) #4.4\n",
    "l_y = float(input(\"Enter the lower limit of y integral:\")) #2\n",
    "u_y = float(input(\"Enter the upper limit of y integral:\")) #2.6\n",
    "\n",
    "#no of segment\n",
    "N = int(input(\"Enter the interval:\")) # value must be Multiple of 3's for simpson3/8\n",
    "\n",
    "# each segment value\n",
    "h = (u_x-l_x)/N \n",
    "k = (u_y-l_y)/N\n",
    "\n",
    "\n",
    "# defining function to be ingrated \n",
    "def f(x,y):\n",
    "    return x*y; \n",
    "\n",
    "\n",
    "#  converting the function in the matrix form\n",
    "f_xy = np.zeros((N+1,N+1))\n",
    "\n",
    "print(\"the matrix form of the function: \\n\")\n",
    "\n",
    "for i in range(0,N+1):\n",
    "    for j in range(0,N+1):\n",
    "        f_xy[i,j] = f((l_x+(h*(i))),(l_y+(k*(j))))\n",
    "print(f_xy)"
   ]
  },
  {
   "cell_type": "markdown",
   "id": "c0591b99",
   "metadata": {},
   "source": [
    "### Simpson 3/8 Integration section"
   ]
  },
  {
   "cell_type": "code",
   "execution_count": 3,
   "id": "4df5222d",
   "metadata": {},
   "outputs": [
    {
     "name": "stdout",
     "output_type": "stream",
     "text": [
      "[1.5  1.75 2.   2.25 2.5  2.75 3.  ]\n",
      "The simpson 3/8 integration result is:  2.25\n"
     ]
    }
   ],
   "source": [
    "def simpson38(z):   \n",
    "    # working with the y integral\n",
    "    \n",
    "    x = np.zeros((N+1,N+1))     # reference one dimensional array\n",
    "    for i in range(0,N+1):\n",
    "        for j in range(0,N+1):\n",
    "            if j==0 or j==N:\n",
    "                x[i] = x[i] + z[i,j]\n",
    "            elif j%3==0 and j!=(0 or N):\n",
    "                x[i] = x[i] + (2*z[i,j])\n",
    "            else:\n",
    "                x[i] = x[i] + (3*z[i,j])\n",
    "    x = ((3*k)/8)*x\n",
    "    print(x)\n",
    "    \n",
    "    # working with the x integral\n",
    "    integration = 0        # intializing a variable with intial value zero\n",
    "    for i in range(0,N+1):\n",
    "        if i==0 or i==N:\n",
    "            integration = integration + x[i]\n",
    "        elif i%3==0 and i!=(0 or N):\n",
    "            integration = integration + (2*x[i])\n",
    "        else:\n",
    "            integration = integration + (3*x[i])\n",
    "\n",
    "    integration = ((3*h)/8)*integration\n",
    "    return integration # to return the result\n",
    "\n",
    "result = simpson38(f_xy)\n",
    "print(\"The simpson 3/8 integration result is: \",result)"
   ]
  },
  {
   "cell_type": "code",
   "execution_count": null,
   "id": "1d1943f2",
   "metadata": {},
   "outputs": [],
   "source": []
  },
  {
   "cell_type": "code",
   "execution_count": null,
   "id": "90f9beb5",
   "metadata": {},
   "outputs": [],
   "source": []
  },
  {
   "cell_type": "code",
   "execution_count": null,
   "id": "ec01d61f",
   "metadata": {},
   "outputs": [],
   "source": []
  },
  {
   "cell_type": "code",
   "execution_count": null,
   "id": "606b1b95",
   "metadata": {},
   "outputs": [],
   "source": []
  },
  {
   "cell_type": "code",
   "execution_count": null,
   "id": "90efb2d1",
   "metadata": {},
   "outputs": [],
   "source": []
  },
  {
   "cell_type": "code",
   "execution_count": null,
   "id": "99a56882",
   "metadata": {},
   "outputs": [],
   "source": []
  }
 ],
 "metadata": {
  "kernelspec": {
   "display_name": "Python 3 (ipykernel)",
   "language": "python",
   "name": "python3"
  },
  "language_info": {
   "codemirror_mode": {
    "name": "ipython",
    "version": 3
   },
   "file_extension": ".py",
   "mimetype": "text/x-python",
   "name": "python",
   "nbconvert_exporter": "python",
   "pygments_lexer": "ipython3",
   "version": "3.9.11"
  }
 },
 "nbformat": 4,
 "nbformat_minor": 5
}
