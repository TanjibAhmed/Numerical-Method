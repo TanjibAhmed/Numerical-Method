{
 "cells": [
  {
   "cell_type": "code",
   "execution_count": 10,
   "id": "ca93405d",
   "metadata": {},
   "outputs": [
    {
     "name": "stdout",
     "output_type": "stream",
     "text": [
      "Enter the lower value of x: 1\n",
      "Enter the higher value of x: 2\n",
      "Number of iteration: 9\n",
      "wrong initial value\n",
      "[1. 0. 0. 0. 0. 0. 0. 0. 0. 0.]\n",
      "[2. 0. 0. 0. 0. 0. 0. 0. 0. 0.]\n",
      "[0. 0. 0. 0. 0. 0. 0. 0. 0. 0.]\n"
     ]
    }
   ],
   "source": [
    "import numpy as np\n",
    "import math\n",
    "\n",
    "xl = float(input(\"Enter the lower value of x: \"))\n",
    "xu = float(input(\"Enter the higher value of x: \"))\n",
    "n = int(input(\"Number of iteration: \"))\n",
    "\n",
    "def f(x):\n",
    "    return 5*x**3-5*x**2+6*x-2\n",
    "\n",
    "x_l = np.zeros(n+1)\n",
    "x_u = np.zeros(n+1)\n",
    "x_r = np.zeros(n+1)\n",
    "f_l = np.zeros(n+1)\n",
    "f_u = np.zeros(n+1)\n",
    "itr = np.zeros(n+1)\n",
    "\n",
    "x_l[0] = xl\n",
    "x_u[0] = xu\n",
    "\n",
    "if f(xl)*f(xu)<0:\n",
    "    for i in range(0,n+1):\n",
    "\n",
    "        x_r[i] = (x_l[i]+x_u[i])/2\n",
    "\n",
    "        \n",
    "        if f(x_l[i])*f(x_r[i])<0:\n",
    "            x_u[i+1] = x_r[i]\n",
    "            x_l[i+1] = x_l[i]\n",
    "        elif f(x_l[i])*f(x_r[i])>0:\n",
    "            x_l[i+1] = x_r[i]\n",
    "            x_u[i+1] = x_u[i]\n",
    "        elif f(x_l[i])*f(x_r[i])==0:\n",
    "            print(\"the answer is: \",x_r[i])\n",
    "        \n",
    "else:\n",
    "    print(\"wrong initial value\")\n",
    "    \n",
    "print(x_l)\n",
    "print(x_u)\n",
    "print(x_r)"
   ]
  },
  {
   "cell_type": "code",
   "execution_count": null,
   "id": "e20aabd6",
   "metadata": {},
   "outputs": [],
   "source": []
  }
 ],
 "metadata": {
  "kernelspec": {
   "display_name": "Python 3 (ipykernel)",
   "language": "python",
   "name": "python3"
  },
  "language_info": {
   "codemirror_mode": {
    "name": "ipython",
    "version": 3
   },
   "file_extension": ".py",
   "mimetype": "text/x-python",
   "name": "python",
   "nbconvert_exporter": "python",
   "pygments_lexer": "ipython3",
   "version": "3.9.11"
  }
 },
 "nbformat": 4,
 "nbformat_minor": 5
}
