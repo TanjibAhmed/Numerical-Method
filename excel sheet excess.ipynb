{
 "cells": [
  {
   "cell_type": "code",
   "execution_count": 4,
   "id": "84b62dfb",
   "metadata": {},
   "outputs": [
    {
     "name": "stdout",
     "output_type": "stream",
     "text": [
      "[0. 0. 0. 0. 0. 0.]\n",
      "[0. 1. 2. 3. 4. 5.]\n",
      "[0. 0. 0. 0. 0. 0.]\n",
      "[ 2.1  7.7 13.6 27.2 40.9 61.1]\n"
     ]
    }
   ],
   "source": [
    "## complex method\n",
    "import numpy as np\n",
    "import pandas as pd\n",
    "import openpyxl\n",
    "import matplotlib.pyplot as plt\n",
    "\n",
    "# taking data from xls files\n",
    "#data = pd.read_excel(r\"C:/Users/tanji/Desktop/new.xlsx\",sheet_name='Sheet1')\n",
    "\n",
    "wb = openpyxl.load_workbook(r\"C:/Users/tanji/Desktop/new.xlsx\")\n",
    "\n",
    "\n",
    "# Storing xlsx data in array\n",
    "x = np.zeros(6)\n",
    "print(x)\n",
    "for i in range(2,8):\n",
    "    r = \"A\"+str(i)\n",
    "    x[i-2] = wb['Sheet1'][r].value #to excess data------ data = wb['sheet name']['number of cell number']\n",
    "print(x)\n",
    "\n",
    "y = np.zeros(6)\n",
    "print(y)\n",
    "for i in range(2,8):\n",
    "    r = \"B\"+str(i)\n",
    "    y[i-2] = wb['Sheet1'][r].value\n",
    "print(y)\n",
    "print()"
   ]
  },
  {
   "cell_type": "code",
   "execution_count": 6,
   "id": "c10bda3c",
   "metadata": {},
   "outputs": [
    {
     "name": "stdout",
     "output_type": "stream",
     "text": [
      "[0. 1. 2. 3. 4. 5.]\n",
      "[ 2.1  7.7 13.6 27.2 40.9 61.1]\n"
     ]
    }
   ],
   "source": [
    "# easy method\n",
    "import numpy as np\n",
    "import openpyxl\n",
    "\n",
    "wb = openpyxl.load_workbook(r\"C:/Users/tanji/Desktop/new.xlsx\")\n",
    "\n",
    "# Storing xlsx data in array\n",
    "x = np.zeros(6)\n",
    "y = np.zeros(6)\n",
    "\n",
    "for i in range(2,8):\n",
    "    x[i-2] = wb['Sheet1'].cell(i,1).value\n",
    "    y[i-2] = wb['Sheet1'].cell(i,2).value\n",
    "print(x)    \n",
    "print(y)\n"
   ]
  },
  {
   "cell_type": "code",
   "execution_count": null,
   "id": "bb422689",
   "metadata": {},
   "outputs": [],
   "source": [
    "n = wb['Sheet'+str(a)].max_row - 1# to find number of data"
   ]
  }
 ],
 "metadata": {
  "kernelspec": {
   "display_name": "Python 3 (ipykernel)",
   "language": "python",
   "name": "python3"
  },
  "language_info": {
   "codemirror_mode": {
    "name": "ipython",
    "version": 3
   },
   "file_extension": ".py",
   "mimetype": "text/x-python",
   "name": "python",
   "nbconvert_exporter": "python",
   "pygments_lexer": "ipython3",
   "version": "3.9.11"
  }
 },
 "nbformat": 4,
 "nbformat_minor": 5
}
