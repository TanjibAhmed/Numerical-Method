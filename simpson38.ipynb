{
 "cells": [
  {
   "cell_type": "code",
   "execution_count": 4,
   "id": "ade99c16",
   "metadata": {},
   "outputs": [
    {
     "name": "stdout",
     "output_type": "stream",
     "text": [
      "Enter the lower limit:0\n",
      "Enter the higher limit:.8\n",
      "Enter the range:6\n",
      "the integrationo value is: 1.50975308641975\n"
     ]
    }
   ],
   "source": [
    "l_interval = float(input(\"Enter the lower limit:\"))\n",
    "U_interval = float(input(\"Enter the higher limit:\"))\n",
    "N = int(input(\"Enter the range:\"))\n",
    "\n",
    "\n",
    "def f(x):\n",
    "    return 0.2+25*x-200*x**2+675*x**3-900*x**4+400*x**5\n",
    "\n",
    "def simpson38(xn,x0,n):\n",
    "    \n",
    "    h = (xn-x0)/n\n",
    "\n",
    "    integ = f(x0)+f(xn)\n",
    "    \n",
    "    for i in range(1,n):\n",
    "        xi = x0+i*h\n",
    "        \n",
    "        if i%2 == 0:\n",
    "            integ = integ + 2*f(xi)\n",
    "        else:\n",
    "            integ = integ + 3*f(xi)\n",
    "    \n",
    "    integ = integ *(3/8)*h;\n",
    "    return integ\n",
    "\n",
    "result = simpson38(U_interval,l_interval,N)\n",
    "\n",
    "\n",
    "print(\"the integrationo value is:\",result)"
   ]
  },
  {
   "cell_type": "code",
   "execution_count": null,
   "id": "3dca1eb7",
   "metadata": {},
   "outputs": [],
   "source": []
  },
  {
   "cell_type": "code",
   "execution_count": null,
   "id": "f74b07ab",
   "metadata": {},
   "outputs": [],
   "source": []
  },
  {
   "cell_type": "code",
   "execution_count": null,
   "id": "956de6e7",
   "metadata": {},
   "outputs": [],
   "source": []
  }
 ],
 "metadata": {
  "kernelspec": {
   "display_name": "Python 3 (ipykernel)",
   "language": "python",
   "name": "python3"
  },
  "language_info": {
   "codemirror_mode": {
    "name": "ipython",
    "version": 3
   },
   "file_extension": ".py",
   "mimetype": "text/x-python",
   "name": "python",
   "nbconvert_exporter": "python",
   "pygments_lexer": "ipython3",
   "version": "3.9.11"
  }
 },
 "nbformat": 4,
 "nbformat_minor": 5
}
