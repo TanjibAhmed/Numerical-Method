{
 "cells": [
  {
   "cell_type": "code",
   "execution_count": 78,
   "id": "7cea555e",
   "metadata": {},
   "outputs": [
    {
     "name": "stdout",
     "output_type": "stream",
     "text": [
      "Enter the sheet no: 1\n",
      "Enter the the number of order: 3\n",
      "x:  [0. 1. 2. 3. 4. 5.]\n",
      "[0. 0. 0. 0. 0. 0. 0. 0. 0. 0. 0.]\n",
      "[6.0000e+00 1.5000e+01 5.5000e+01 2.2500e+02 9.7900e+02 4.4250e+03\n",
      " 2.0515e+04 1.5260e+02 5.8560e+02 2.4888e+03 1.1106e+04]\n",
      "[[0. 0. 0. 0. 0.]\n",
      " [0. 0. 0. 0. 0.]\n",
      " [0. 0. 0. 0. 0.]\n",
      " [0. 0. 0. 0. 0.]]\n",
      "[[6.0000e+00 1.5000e+01 5.5000e+01 2.2500e+02 1.5260e+02]\n",
      " [1.5000e+01 5.5000e+01 2.2500e+02 9.7900e+02 5.8560e+02]\n",
      " [5.5000e+01 2.2500e+02 9.7900e+02 4.4250e+03 2.4888e+03]\n",
      " [2.2500e+02 9.7900e+02 4.4250e+03 2.0515e+04 1.1106e+04]]\n",
      "\n",
      "a0 =  2.250793650793688\n",
      "\n",
      "a1 =  3.3994708994707565\n",
      "\n",
      "a2 =  1.2912698412699148\n",
      "\n",
      "a3 =  0.07592592592591646\n",
      "[2.25079365 3.3994709  1.29126984 0.07592593]\n"
     ]
    },
    {
     "data": {
      "image/png": "[encoded data removed]",
      "text/plain": [
       "<Figure size 432x288 with 1 Axes>"
      ]
     },
     "metadata": {
      "needs_background": "light"
     },
     "output_type": "display_data"
    }
   ],
   "source": [
    "import numpy as np\n",
    "import matplotlib.pyplot as plt\n",
    "import openpyxl\n",
    "import math\n",
    "\n",
    "########################################### User input ##########################################\n",
    "a = int(input(\"Enter the sheet no: \"))\n",
    "n = int(input(\"Enter the the number of order: \"))\n",
    "\n",
    "################################## Storing xlsx data in a matrix ################################\n",
    "wb = openpyxl.load_workbook(r\"C:/Users/tanji/Desktop/new.xlsx\")\n",
    "m = wb['Sheet'+str(a)].max_row - 1\n",
    "\n",
    "x = np.zeros(m)\n",
    "y = np.zeros(m)\n",
    "\n",
    "for i in range(2,m+2):\n",
    "    x[i-2] = wb['Sheet'+str(a)].cell(i,1).value\n",
    "    y[i-2] = wb['Sheet'+str(a)].cell(i,2).value\n",
    "print(\"x: \",x)\n",
    "data = np.zeros(3*n+2)\n",
    "print(data)\n",
    "\n",
    "################################ getting the ultimate matrix ####################################\n",
    "for i in range(0,2*n+1):\n",
    "    for j in range(0,m):\n",
    "        data[i] += math.pow(x[j],i)\n",
    "for i in range(2*n+1,3*n+2):\n",
    "    for j in range(0,m):\n",
    "        data[i] += (math.pow(x[j],i-(2*n+1)))*y[j]\n",
    "print(data)\n",
    "\n",
    "\n",
    "w = np.zeros((n+1,n+2))\n",
    "print(w)\n",
    "for i in range(0,n+1):\n",
    "    for j in range(i,n+1+i):\n",
    "        w[i,j-i] = data[j]\n",
    "        w[i,n+1] = data[i+2*n+1]   \n",
    "print(w)\n",
    "        \n",
    "################################ solving with Gauss jordan method ###############################\n",
    "n += 1\n",
    "def gauss_jordan(z):\n",
    "    for j in range(0,n):\n",
    "        if z[j,j] != 0.0: \n",
    "            z[j,:] = z[j,:]/z[j,j]\n",
    "        for i in range(0,n):\n",
    "            if i != j:\n",
    "                if i>j: \n",
    "                    z[i,:] = (z[j,:]*z[i,j])-z[i,:]\n",
    "                else:\n",
    "                    z[i,:] = z[i,:]-(z[j,:]*z[i,j])\n",
    "    a = np.zeros(n)\n",
    "    for i in range(0,n):\n",
    "        a[i] = w[i,n]\n",
    "        print('\\na'+str(i)+' = ',w[i,n])\n",
    "    return a\n",
    "\n",
    "################################# Ploting the polynomial curve ##################################\n",
    "a = gauss_jordan(w)\n",
    "print(a)\n",
    "############# getting the equation #############\n",
    "def f(z):\n",
    "    sum = 0\n",
    "    for i in range(0,n):\n",
    "        p = a[i]\n",
    "        p *= math.pow(z,i)\n",
    "        sum += p\n",
    "    return sum\n",
    "############## ploting the curve ##################\n",
    "y_est = np.zeros(m)\n",
    "for i in range(0,m):\n",
    "    y_est[i] = f(x[i])\n",
    "\n",
    "plt.xlabel('x_data')\n",
    "plt.ylabel('y_data')\n",
    "plt.title(str(n-1)+\"th order polynomial curve\")\n",
    "plt.plot(x,y_est)\n",
    "plt.scatter(x,y)\n",
    "plt.show()"
   ]
  },
  {
   "cell_type": "code",
   "execution_count": null,
   "id": "5d51f05c",
   "metadata": {},
   "outputs": [],
   "source": []
  }
 ],
 "metadata": {
  "kernelspec": {
   "display_name": "Python 3 (ipykernel)",
   "language": "python",
   "name": "python3"
  },
  "language_info": {
   "codemirror_mode": {
    "name": "ipython",
    "version": 3
   },
   "file_extension": ".py",
   "mimetype": "text/x-python",
   "name": "python",
   "nbconvert_exporter": "python",
   "pygments_lexer": "ipython3",
   "version": "3.9.11"
  }
 },
 "nbformat": 4,
 "nbformat_minor": 5
}
