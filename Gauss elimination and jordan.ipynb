{
 "cells": [
  {
   "cell_type": "code",
   "execution_count": 46,
   "id": "360ee863",
   "metadata": {},
   "outputs": [
    {
     "name": "stdout",
     "output_type": "stream",
     "text": [
      "Enter the number of variable:4\n",
      "[[0. 0. 0. 0. 0.]\n",
      " [0. 0. 0. 0. 0.]\n",
      " [0. 0. 0. 0. 0.]\n",
      " [0. 0. 0. 0. 0.]]\n",
      "Enter the value of coefficient:\n",
      "f[0,0]:12\n",
      "f[0,1]:13\n",
      "f[0,2]:23\n",
      "f[0,3]:34\n",
      "f[0,4]:45\n",
      "f[1,0]:56\n",
      "f[1,1]:67\n",
      "f[1,2]:78\n",
      "f[1,3]:89\n",
      "f[1,4]:78\n",
      "f[2,0]:67\n",
      "f[2,1]:56\n",
      "f[2,2]:67\n",
      "f[2,3]:56\n",
      "f[2,4]:78\n",
      "f[3,0]:45\n",
      "f[3,1]:65\n",
      "f[3,2]:73\n",
      "f[3,3]:83\n",
      "f[3,4]:67\n",
      "The matrix version of the three function:\n",
      " [[12. 13. 23. 34. 45.]\n",
      " [56. 67. 78. 89. 78.]\n",
      " [67. 56. 67. 56. 78.]\n",
      " [45. 65. 73. 83. 67.]]\n"
     ]
    }
   ],
   "source": [
    "import numpy as np\n",
    "\n",
    "n = int(input(\"Enter the number of variable:\"))\n",
    "\n",
    "f = np.zeros((n,n+1))\n",
    "print(f)\n",
    "print(\"Enter the value of coefficient:\")\n",
    "for i in range(0,n):\n",
    "    for j in range(0,n+1):\n",
    "        f[i,j] = float(input(\"f[\"+str(i)+\",\"+str(j)+\"]:\"))\n",
    "\n",
    "print(\"The matrix version of the three function:\\n\",f)        "
   ]
  },
  {
   "cell_type": "code",
   "execution_count": 33,
   "id": "18938078",
   "metadata": {},
   "outputs": [
    {
     "ename": "IndexError",
     "evalue": "index 3 is out of bounds for axis 0 with size 3",
     "output_type": "error",
     "traceback": [
      "\u001b[1;31m---------------------------------------------------------------------------\u001b[0m",
      "\u001b[1;31mIndexError\u001b[0m                                Traceback (most recent call last)",
      "Input \u001b[1;32mIn [33]\u001b[0m, in \u001b[0;36m<cell line: 8>\u001b[1;34m()\u001b[0m\n\u001b[0;32m      6\u001b[0m                 a[i\u001b[38;5;241m+\u001b[39m\u001b[38;5;241m1\u001b[39m:,j] \u001b[38;5;241m=\u001b[39m ((a[i,j]\u001b[38;5;241m/\u001b[39ma[j,j])\u001b[38;5;241m*\u001b[39ma[i\u001b[38;5;241m+\u001b[39m\u001b[38;5;241m1\u001b[39m,j])\u001b[38;5;241m-\u001b[39ma[i\u001b[38;5;241m+\u001b[39m\u001b[38;5;241m1\u001b[39m:,j]\n\u001b[0;32m      7\u001b[0m     \u001b[38;5;28;01mreturn\u001b[39;00m a;\n\u001b[1;32m----> 8\u001b[0m result \u001b[38;5;241m=\u001b[39m \u001b[43mgauss_elimination\u001b[49m\u001b[43m(\u001b[49m\u001b[43mf\u001b[49m\u001b[43m)\u001b[49m\n\u001b[0;32m      9\u001b[0m \u001b[38;5;28mprint\u001b[39m(result)\n",
      "Input \u001b[1;32mIn [33]\u001b[0m, in \u001b[0;36mgauss_elimination\u001b[1;34m(a)\u001b[0m\n\u001b[0;32m      4\u001b[0m     \u001b[38;5;28;01mfor\u001b[39;00m i \u001b[38;5;129;01min\u001b[39;00m \u001b[38;5;28mrange\u001b[39m(j,n):\n\u001b[0;32m      5\u001b[0m         \u001b[38;5;28;01mif\u001b[39;00m a[i,j] \u001b[38;5;241m!=\u001b[39m \u001b[38;5;241m0.0\u001b[39m:\n\u001b[1;32m----> 6\u001b[0m             a[i\u001b[38;5;241m+\u001b[39m\u001b[38;5;241m1\u001b[39m:,j] \u001b[38;5;241m=\u001b[39m ((a[i,j]\u001b[38;5;241m/\u001b[39ma[j,j])\u001b[38;5;241m*\u001b[39m\u001b[43ma\u001b[49m\u001b[43m[\u001b[49m\u001b[43mi\u001b[49m\u001b[38;5;241;43m+\u001b[39;49m\u001b[38;5;241;43m1\u001b[39;49m\u001b[43m,\u001b[49m\u001b[43mj\u001b[49m\u001b[43m]\u001b[49m)\u001b[38;5;241m-\u001b[39ma[i\u001b[38;5;241m+\u001b[39m\u001b[38;5;241m1\u001b[39m:,j]\n\u001b[0;32m      7\u001b[0m \u001b[38;5;28;01mreturn\u001b[39;00m a\n",
      "\u001b[1;31mIndexError\u001b[0m: index 3 is out of bounds for axis 0 with size 3"
     ]
    }
   ],
   "source": [
    "#Gauss elimination section\n",
    "def gauss_elimination(a):\n",
    "    for j in range(0,n+1):\n",
    "        for i in range(j,n):\n",
    "            if a[i,j] != 0.0:\n",
    "                a[i+1:,j] = ((a[i,j]/a[j,j])*a[i+1,j])-a[i+1:,j]\n",
    "    return a;\n",
    "result = gauss_elimination(f)\n",
    "print(result)"
   ]
  },
  {
   "cell_type": "code",
   "execution_count": 37,
   "id": "89f78b27",
   "metadata": {
    "scrolled": false
   },
   "outputs": [
    {
     "name": "stdout",
     "output_type": "stream",
     "text": [
      "[[1.         2.         3.         4.        ]\n",
      " [0.         1.         7.         8.        ]\n",
      " [0.57142857 1.14285714 1.         6.        ]]\n",
      "[[1.         2.         3.         4.        ]\n",
      " [0.         1.         7.         8.        ]\n",
      " [0.57142857 1.14285714 1.         6.        ]]\n"
     ]
    }
   ],
   "source": [
    "#Gauss elimination section\n",
    "def gauss_elition(a):\n",
    "    for j in range(0,n+1):\n",
    "        for i in range(j,n):\n",
    "            a[i,j] = a[i,j]/a[i,i]\n",
    "    return a;\n",
    "result = gauss_elition(f)\n",
    "print(result)\n",
    "print(result)"
   ]
  },
  {
   "cell_type": "code",
   "execution_count": null,
   "id": "3ca0068d",
   "metadata": {},
   "outputs": [],
   "source": []
  },
  {
   "cell_type": "code",
   "execution_count": 70,
   "id": "aa774c10",
   "metadata": {},
   "outputs": [
    {
     "name": "stdout",
     "output_type": "stream",
     "text": [
      "(3.0, -2.5, 7.000000000000002)\n"
     ]
    }
   ],
   "source": [
    "z = np.copy(f)\n",
    "def gauss_jordan(a):\n",
    "    a[0,:] = a[0,:]/a[0,0] \n",
    "    a[1,:] = (a[0,:]*a[1,0])- a[1,:]\n",
    "    a[2,:] = (a[0,:]*a[2,0])- a[2,:]\n",
    "\n",
    "    a[2,:] = ((a[1,:]/a[1,1])*a[2,1])- a[2,:]\n",
    "    a[0,:] = a[0,:]-((a[1,:]/a[1,1])*a[0,1])\n",
    "\n",
    "    a[0,:] = a[0,:]-((a[2,:]/a[2,2])*a[0,2])\n",
    "    a[1,:] = a[1,:]-((a[2,:]/a[2,2])*a[1,2])\n",
    "\n",
    "    a[1,:] = a[1,:]/a[1,1]\n",
    "    a[2,:] = a[2,:]/a[2,2]\n",
    "\n",
    "    x1 = a[0,3]\n",
    "    x2 = a[1,3]\n",
    "    x3 = a[2,3]\n",
    "    return x1,x2,x3\n",
    "\n",
    "print(gauss_jordan(z))\n"
   ]
  },
  {
   "cell_type": "code",
   "execution_count": 40,
   "id": "ded89c24",
   "metadata": {},
   "outputs": [
    {
     "name": "stdout",
     "output_type": "stream",
     "text": [
      "[[ 1.          2.          3.          4.        ]\n",
      " [ 0.         -1.         -7.         -8.        ]\n",
      " [ 0.          0.         -0.71428571  3.71428571]]\n"
     ]
    }
   ],
   "source": [
    "def gauss(a):\n",
    "    a[0,:] = a[0,:]/a[0,0] \n",
    "    a[1,:] = (a[0,:]*a[1,0])- a[1,:]\n",
    "    a[2,:] = (a[0,:]*a[2,0])- a[2,:]\n",
    "\n",
    "    a[2,:] = ((a[1,:]/a[1,1])*a[2,1])- a[2,:]\n",
    "    return a\n",
    "print(gauss(f))\n"
   ]
  },
  {
   "cell_type": "code",
   "execution_count": 54,
   "id": "001b4bf9",
   "metadata": {},
   "outputs": [
    {
     "name": "stdout",
     "output_type": "stream",
     "text": [
      "[[nan nan nan nan nan]\n",
      " [nan nan nan nan nan]\n",
      " [nan nan nan nan nan]\n",
      " [nan nan nan nan nan]]\n"
     ]
    }
   ],
   "source": [
    "def gauss_elimination(a):\n",
    "    for j in range(0,n-1):\n",
    "        for i in range(j,n-1):\n",
    "            if a[j,j] != 0.0: \n",
    "                a[j,:] = a[j,:]/a[j,j] # different for nested loop this should loop for only one\n",
    "                a[i+1,:] = (a[j,:]*a[i+1,j])-a[i+1,:]#j0,1\n",
    "    return a\n",
    "print(gauss_elimination(f))"
   ]
  },
  {
   "cell_type": "code",
   "execution_count": 52,
   "id": "515b673f",
   "metadata": {},
   "outputs": [
    {
     "name": "stdout",
     "output_type": "stream",
     "text": [
      "nan\n",
      "nan\n",
      "nan\n",
      "nan\n",
      "nan\n",
      "nan\n",
      "nan\n",
      "nan\n",
      "nan\n",
      "nan\n",
      "nan\n",
      "nan\n",
      "nan\n",
      "nan\n",
      "nan\n",
      "nan\n",
      "nan\n",
      "nan\n",
      "nan\n",
      "nan\n",
      "nan\n",
      "nan\n",
      "nan\n",
      "nan\n",
      "[[         nan          nan          nan          nan   3.75      ]\n",
      " [         nan          nan          nan          nan -20.84210526]\n",
      " [         nan          nan          nan          nan   3.8151911 ]\n",
      " [         nan          nan          nan          nan -51.19871795]]\n"
     ]
    }
   ],
   "source": [
    "def elimination(a):\n",
    "    for i in range(0,n):\n",
    "        for j in range(0,n):\n",
    "            limit = a[i,j]/a[i,i]\n",
    "            for k in range(i+1,n):\n",
    "                a[k,i] = a[k,i]*limit-a[k,i]\n",
    "                print(a[k,i])\n",
    "                \n",
    "    return a\n",
    "print(elimination(f))\n",
    "                \n",
    "                "
   ]
  },
  {
   "cell_type": "code",
   "execution_count": null,
   "id": "ba796afd",
   "metadata": {},
   "outputs": [],
   "source": []
  }
 ],
 "metadata": {
  "kernelspec": {
   "display_name": "Python 3 (ipykernel)",
   "language": "python",
   "name": "python3"
  },
  "language_info": {
   "codemirror_mode": {
    "name": "ipython",
    "version": 3
   },
   "file_extension": ".py",
   "mimetype": "text/x-python",
   "name": "python",
   "nbconvert_exporter": "python",
   "pygments_lexer": "ipython3",
   "version": "3.9.11"
  }
 },
 "nbformat": 4,
 "nbformat_minor": 5
}
