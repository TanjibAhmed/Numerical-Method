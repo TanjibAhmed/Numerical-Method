{
 "cells": [
  {
   "cell_type": "code",
   "execution_count": 31,
   "id": "ca235f6b",
   "metadata": {},
   "outputs": [
    {
     "name": "stdout",
     "output_type": "stream",
     "text": [
      "Enter the step size: .25\n",
      "Enter the upper limit: 1\n",
      "Enter the lower limit: 0\n",
      "4\n",
      "[0.   0.25 0.5  0.75 1.  ]\n",
      "[1.2        1.10351562 0.925      0.63632812 0.2       ]\n",
      "2\n",
      "-0.8593750000000009\n"
     ]
    }
   ],
   "source": [
    "import numpy as np\n",
    "import math\n",
    "\n",
    "h = float(input(\"Enter the step size: \"))\n",
    "u = int(input(\"Enter the upper limit: \"))\n",
    "l = int(input(\"Enter the lower limit: \"))\n",
    "\n",
    "n = int((u-l)/h)\n",
    "print(n)\n",
    "\n",
    "def f(x):\n",
    "    return -.1*x**4-.15*x**3-.5*x**2-.25*x+1.2\n",
    "\n",
    "# storing the value of x\n",
    "x = np.zeros(n+1)\n",
    "x[0] = l\n",
    "value = 0\n",
    "for i in range(0,n):\n",
    "    value = value+h\n",
    "    x[i+1] = value\n",
    "print(x) \n",
    "    \n",
    "\n",
    "# storing the value of y\n",
    "y = np.zeros(n+1)\n",
    "\n",
    "for i in range(0,n+1):\n",
    "    y[i] = f(x[i])\n",
    "print(y)\n",
    "\n",
    "# forward differentiation\n",
    "\n",
    "# traversing through the array\n",
    "for i in range(0,n+1):\n",
    "    if x[i] == 0.5:\n",
    "        a = i\n",
    "        break\n",
    "print(a)\n",
    "\n",
    "\n",
    "der = ((-y[a+2])+(4*y[a+1])-(3*y[a]))/(2*h)\n",
    "\n",
    "print(der)\n"
   ]
  },
  {
   "cell_type": "code",
   "execution_count": 3,
   "id": "56a8fcb1",
   "metadata": {},
   "outputs": [
    {
     "name": "stderr",
     "output_type": "stream",
     "text": [
      "<>:7: SyntaxWarning: 'int' object is not callable; perhaps you missed a comma?\n",
      "<>:7: SyntaxWarning: 'int' object is not callable; perhaps you missed a comma?\n"
     ]
    },
    {
     "name": "stdout",
     "output_type": "stream",
     "text": [
      "Enter the step size: .25\n",
      "Enter the order of differentiation: 2\n"
     ]
    },
    {
     "name": "stderr",
     "output_type": "stream",
     "text": [
      "C:\\Users\\tanji\\AppData\\Local\\Temp\\ipykernel_12300\\3443748566.py:7: SyntaxWarning: 'int' object is not callable; perhaps you missed a comma?\n",
      "  x = np.zeros(2(n+1))\n",
      "C:\\Users\\tanji\\AppData\\Local\\Temp\\ipykernel_12300\\3443748566.py:7: SyntaxWarning: 'int' object is not callable; perhaps you missed a comma?\n",
      "  x = np.zeros(2(n+1))\n",
      "C:\\Users\\tanji\\AppData\\Local\\Temp\\ipykernel_12300\\3443748566.py:7: SyntaxWarning: 'int' object is not callable; perhaps you missed a comma?\n",
      "  x = np.zeros(2(n+1))\n",
      "C:\\Users\\tanji\\AppData\\Local\\Temp\\ipykernel_12300\\3443748566.py:7: SyntaxWarning: 'int' object is not callable; perhaps you missed a comma?\n",
      "  x = np.zeros(2(n+1))\n"
     ]
    },
    {
     "ename": "TypeError",
     "evalue": "'int' object is not callable",
     "output_type": "error",
     "traceback": [
      "\u001b[1;31m---------------------------------------------------------------------------\u001b[0m",
      "\u001b[1;31mTypeError\u001b[0m                                 Traceback (most recent call last)",
      "Input \u001b[1;32mIn [3]\u001b[0m, in \u001b[0;36m<cell line: 7>\u001b[1;34m()\u001b[0m\n\u001b[0;32m      4\u001b[0m h \u001b[38;5;241m=\u001b[39m \u001b[38;5;28mfloat\u001b[39m(\u001b[38;5;28minput\u001b[39m(\u001b[38;5;124m\"\u001b[39m\u001b[38;5;124mEnter the step size: \u001b[39m\u001b[38;5;124m\"\u001b[39m))\n\u001b[0;32m      5\u001b[0m n \u001b[38;5;241m=\u001b[39m \u001b[38;5;28mint\u001b[39m(\u001b[38;5;28minput\u001b[39m(\u001b[38;5;124m\"\u001b[39m\u001b[38;5;124mEnter the order of differentiation: \u001b[39m\u001b[38;5;124m\"\u001b[39m))\n\u001b[1;32m----> 7\u001b[0m x \u001b[38;5;241m=\u001b[39m np\u001b[38;5;241m.\u001b[39mzeros(\u001b[38;5;241;43m2\u001b[39;49m\u001b[43m(\u001b[49m\u001b[43mn\u001b[49m\u001b[38;5;241;43m+\u001b[39;49m\u001b[38;5;241;43m1\u001b[39;49m\u001b[43m)\u001b[49m)\n\u001b[0;32m      8\u001b[0m \u001b[38;5;28mprint\u001b[39m(x)\n",
      "\u001b[1;31mTypeError\u001b[0m: 'int' object is not callable"
     ]
    }
   ],
   "source": [
    "import numpy as np\n",
    "import math\n",
    "\n",
    "h = float(input(\"Enter the step size: \"))\n",
    "n = int(input(\"Enter the order of differentiation: \"))\n",
    "\n",
    "x = np.zeros(2(n+1))\n",
    "print(x)\n",
    "\n",
    "#for i in range (0,n+1)\n"
   ]
  },
  {
   "cell_type": "code",
   "execution_count": null,
   "id": "d45a2f99",
   "metadata": {},
   "outputs": [],
   "source": []
  }
 ],
 "metadata": {
  "kernelspec": {
   "display_name": "Python 3 (ipykernel)",
   "language": "python",
   "name": "python3"
  },
  "language_info": {
   "codemirror_mode": {
    "name": "ipython",
    "version": 3
   },
   "file_extension": ".py",
   "mimetype": "text/x-python",
   "name": "python",
   "nbconvert_exporter": "python",
   "pygments_lexer": "ipython3",
   "version": "3.9.11"
  }
 },
 "nbformat": 4,
 "nbformat_minor": 5
}
