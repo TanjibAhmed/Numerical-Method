{
 "cells": [
  {
   "cell_type": "markdown",
   "id": "94a600b0",
   "metadata": {},
   "source": [
    "### User input phase"
   ]
  },
  {
   "cell_type": "code",
   "execution_count": 42,
   "id": "05f43440",
   "metadata": {},
   "outputs": [
    {
     "name": "stdout",
     "output_type": "stream",
     "text": [
      "Enter the number of variable:4\n",
      "[[0. 0. 0. 0. 0.]\n",
      " [0. 0. 0. 0. 0.]\n",
      " [0. 0. 0. 0. 0.]\n",
      " [0. 0. 0. 0. 0.]]\n",
      "Enter the value of coefficient:\n",
      "f[0,0]:1\n",
      "f[0,1]:2\n",
      "f[0,2]:-1\n",
      "f[0,3]:1\n",
      "f[0,4]:6\n",
      "f[1,0]:-1\n",
      "f[1,1]:1\n",
      "f[1,2]:2\n",
      "f[1,3]:-1\n",
      "f[1,4]:3\n",
      "f[2,0]:2\n",
      "f[2,1]:-1\n",
      "f[2,2]:2\n",
      "f[2,3]:2\n",
      "f[2,4]:14\n",
      "f[3,0]:1\n",
      "f[3,1]:1\n",
      "f[3,2]:-1\n",
      "f[3,3]:2\n",
      "f[3,4]:8\n",
      "The matrix version of the three function:\n",
      " [[ 1.  2. -1.  1.  6.]\n",
      " [-1.  1.  2. -1.  3.]\n",
      " [ 2. -1.  2.  2. 14.]\n",
      " [ 1.  1. -1.  2.  8.]]\n"
     ]
    }
   ],
   "source": [
    "import numpy as np\n",
    "\n",
    "n = int(input(\"Enter the number of variable:\"))\n",
    "\n",
    "f = np.zeros((n,n+1))\n",
    "print(f)\n",
    "print(\"Enter the value of coefficient:\")\n",
    "for i in range(0,n):\n",
    "    for j in range(0,n+1):\n",
    "        f[i,j] = float(input(\"f[\"+str(i)+\",\"+str(j)+\"]:\"))\n",
    "\n",
    "print(\"The matrix version of the three function:\\n\",f)        "
   ]
  },
  {
   "cell_type": "markdown",
   "id": "ceffc27d",
   "metadata": {},
   "source": [
    "### Elimination phase"
   ]
  },
  {
   "cell_type": "code",
   "execution_count": 49,
   "id": "936e1bcd",
   "metadata": {},
   "outputs": [
    {
     "name": "stdout",
     "output_type": "stream",
     "text": [
      "[[ 1.          2.         -1.          1.          6.        ]\n",
      " [-0.          1.          0.33333333 -0.          3.        ]\n",
      " [-0.          0.          1.         -0.          3.        ]\n",
      " [ 0.          0.          0.          1.          4.        ]]\n"
     ]
    }
   ],
   "source": [
    "def gauss_elimination(a):\n",
    "    for j in range(0,n):\n",
    "        for i in range(j,n-1):\n",
    "            if a[j,j] != 0.0: \n",
    "                a[j,:] = a[j,:]/a[j,j]\n",
    "                a[i+1,:] = (a[j,:]*a[i+1,j])-a[i+1,:]\n",
    "    return a\n",
    "print(gauss_elimination(f))"
   ]
  },
  {
   "cell_type": "markdown",
   "id": "7d77a8d6",
   "metadata": {},
   "source": [
    "### back substituition"
   ]
  },
  {
   "cell_type": "code",
   "execution_count": 50,
   "id": "7ca994c4",
   "metadata": {},
   "outputs": [
    {
     "name": "stdout",
     "output_type": "stream",
     "text": [
      "[1. 2. 3. 4.]\n",
      "\n",
      "x0=  1.0\n",
      "\n",
      "x1=  2.0\n",
      "\n",
      "x2=  3.0000000000000004\n",
      "\n",
      "x3=  4.0\n"
     ]
    }
   ],
   "source": [
    "for i in range(n-1,-1,-1):\n",
    "    x[i] = f[i,n]\n",
    "    for j in range(i+1,n):\n",
    "        x[i] = x[i]-f[i,j]*x[j]\n",
    "print(x)\n",
    "\n",
    "# printing the results\n",
    "for i in range(0,n):\n",
    "    print('\\nx'+str(i)+'= ',x[i])"
   ]
  },
  {
   "cell_type": "code",
   "execution_count": null,
   "id": "96a028a5",
   "metadata": {},
   "outputs": [],
   "source": []
  },
  {
   "cell_type": "code",
   "execution_count": null,
   "id": "4289a025",
   "metadata": {},
   "outputs": [],
   "source": []
  }
 ],
 "metadata": {
  "kernelspec": {
   "display_name": "Python 3 (ipykernel)",
   "language": "python",
   "name": "python3"
  },
  "language_info": {
   "codemirror_mode": {
    "name": "ipython",
    "version": 3
   },
   "file_extension": ".py",
   "mimetype": "text/x-python",
   "name": "python",
   "nbconvert_exporter": "python",
   "pygments_lexer": "ipython3",
   "version": "3.9.11"
  }
 },
 "nbformat": 4,
 "nbformat_minor": 5
}
