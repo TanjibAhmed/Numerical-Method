{
 "cells": [
  {
   "cell_type": "code",
   "execution_count": 17,
   "id": "c0abdb92",
   "metadata": {},
   "outputs": [
    {
     "name": "stdout",
     "output_type": "stream",
     "text": [
      "Numnber of variables: 3\n",
      "f[0,0]: 2\n",
      "f[0,1]: 4\n",
      "f[0,2]: 5\n",
      "f[0,3]: 6\n",
      "f[1,0]: 7\n",
      "f[1,1]: 5\n",
      "f[1,2]: 3\n",
      "f[1,3]: 4\n",
      "f[2,0]: 6\n",
      "f[2,1]: 5\n",
      "f[2,2]: 7\n",
      "f[2,3]: 8\n",
      "\n",
      "The ultimate matrix representation is:\n",
      " [[2. 4. 5. 6.]\n",
      " [7. 5. 3. 4.]\n",
      " [6. 5. 7. 8.]]\n"
     ]
    }
   ],
   "source": [
    "import numpy as np\n",
    "import openpyxl\n",
    "import math\n",
    "\n",
    "n = int(input(\"Numnber of variables: \"))\n",
    "\n",
    "f = np.zeros((n,n+1))\n",
    "\n",
    "for i in range(0,n):\n",
    "    for j in range(0,n+1):\n",
    "        f[i,j] = float(input('f['+str(i)+','+str(j)+']: '))\n",
    "\n",
    "print(\"\\nThe ultimate matrix representation is:\\n\",f)"
   ]
  },
  {
   "cell_type": "code",
   "execution_count": 29,
   "id": "14a4ba0e",
   "metadata": {},
   "outputs": [
    {
     "name": "stdout",
     "output_type": "stream",
     "text": [
      "[[2. 4. 5. 6.]\n",
      " [7. 5. 3. 4.]\n",
      " [6. 5. 7. 8.]]\n",
      "[[1.         2.         2.5        3.        ]\n",
      " [0.         1.         1.61111111 1.88888889]\n",
      " [0.         0.         3.27777778 3.22222222]]\n"
     ]
    }
   ],
   "source": [
    "b = np.copy(f)\n",
    "print(b)\n",
    "\n",
    "def U(a):\n",
    "    for j in range(0,n):\n",
    "        for i in range(j,n-1):\n",
    "            if a[j,j] != 0.0: \n",
    "                a[j,:] = (a[j,:]/a[j,j])\n",
    "                a[i+1,:] = ((a[j,:]/a[j,j])*a[i+1,j])-a[i+1,:]\n",
    "    return a\n",
    "print(U(b))"
   ]
  },
  {
   "cell_type": "code",
   "execution_count": null,
   "id": "ab253ea2",
   "metadata": {},
   "outputs": [],
   "source": []
  }
 ],
 "metadata": {
  "kernelspec": {
   "display_name": "Python 3 (ipykernel)",
   "language": "python",
   "name": "python3"
  },
  "language_info": {
   "codemirror_mode": {
    "name": "ipython",
    "version": 3
   },
   "file_extension": ".py",
   "mimetype": "text/x-python",
   "name": "python",
   "nbconvert_exporter": "python",
   "pygments_lexer": "ipython3",
   "version": "3.9.11"
  }
 },
 "nbformat": 4,
 "nbformat_minor": 5
}
