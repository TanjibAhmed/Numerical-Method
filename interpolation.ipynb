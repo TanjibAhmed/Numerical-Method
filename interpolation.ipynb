{
 "cells": [
  {
   "cell_type": "markdown",
   "id": "652ec833",
   "metadata": {},
   "source": [
    "## Interpolation"
   ]
  },
  {
   "cell_type": "code",
   "execution_count": 25,
   "id": "b2f10b77",
   "metadata": {
    "scrolled": true
   },
   "outputs": [
    {
     "name": "stdout",
     "output_type": "stream",
     "text": [
      "Enter the value at which the estimated value be measured: 2\n",
      "Enter the sheet no: 2\n",
      "x:  [1. 4. 6. 5.]\n",
      "f_x: \n",
      " [[ 0.         1.386294   1.791759   1.609438 ]\n",
      " [ 0.462098   0.2027325  0.182321   0.       ]\n",
      " [-0.0518731 -0.0204115  0.         0.       ]\n",
      " [ 0.0078654  0.         0.         0.       ]]\n",
      "Enter the method: l\n",
      "\n",
      "The estimated value of [x = 2.0] is:  0.6287674\n"
     ]
    },
    {
     "data": {
      "image/png": "[encoded data removed]",
      "text/plain": [
       "<Figure size 432x288 with 1 Axes>"
      ]
     },
     "metadata": {
      "needs_background": "light"
     },
     "output_type": "display_data"
    }
   ],
   "source": [
    "import numpy as np\n",
    "import matplotlib.pyplot as plt\n",
    "import openpyxl\n",
    "\n",
    "x1 = float(input(\"Enter the value at which the estimated value be measured: \"))\n",
    "a = int(input(\"Enter the sheet no: \"))\n",
    "\n",
    "\n",
    "####### Storing xlsx data in a matrix #######\n",
    "wb = openpyxl.load_workbook(r\"C:/Users/tanji/Desktop/new.xlsx\")\n",
    "n = wb['Sheet'+str(a)].max_row - 1 # to measure the number of data\n",
    "x = np.zeros(n)\n",
    "f_x = np.zeros((n,n))\n",
    "for i in range(2,n+2):\n",
    "    x[i-2] = wb['Sheet'+str(a)].cell(i,1).value\n",
    "    f_x[0,i-2] = wb['Sheet'+str(a)].cell(i,2).value\n",
    "print(\"x: \",x)\n",
    "\n",
    "\n",
    "#################################### Newton's divided difference interpolating polynomials #################################\n",
    "####### getting finite divided difference ####### \n",
    "for i in range(1,n):\n",
    "    for j in range(0,n-i):\n",
    "        f_x[i,j] = (f_x[i-1,j+1]-f_x[i-1,j])/(x[i+j]-x[j])\n",
    "print(\"f_x: \\n\",f_x)\n",
    "\n",
    "####### Putting the values in the final equation of polinomial #######\n",
    "def newton(z):\n",
    "    sum = f_x[0,0]\n",
    "    for i in range(1,n):\n",
    "        f = f_x[i,0]\n",
    "        for j in range(0,i):\n",
    "            f *= (z-x[j])\n",
    "        sum += f\n",
    "    return sum\n",
    "\n",
    "############################################ Lagrange interpolating polynomials ############################################\n",
    "def lagrange(z):\n",
    "    sum = 0\n",
    "    for i in range(0,n):\n",
    "        p=f_x[0,i]\n",
    "        for j in range(0,n):\n",
    "            if i != j:\n",
    "                p *= (z-x[j])/(x[i]-x[j])\n",
    "        sum += p\n",
    "    return sum\n",
    "\n",
    "##################################################### Output section #######################################################\n",
    "model = str(input(\"Enter the method: \"))\n",
    "if model == 'l':\n",
    "    print(\"\\nThe estimated value of [x = \"+str(x1)+\"] is: \", result(x1))\n",
    "    plt.plot(x,lagrange(x))\n",
    "elif model == 'n':\n",
    "    print(\"\\nThe estimated value of [x = \"+str(x1)+\"] is: \", result(x1))\n",
    "    plt.plot(x,result(x))"
   ]
  },
  {
   "cell_type": "code",
   "execution_count": null,
   "id": "1d136019",
   "metadata": {},
   "outputs": [],
   "source": []
  }
 ],
 "metadata": {
  "kernelspec": {
   "display_name": "Python 3 (ipykernel)",
   "language": "python",
   "name": "python3"
  },
  "language_info": {
   "codemirror_mode": {
    "name": "ipython",
    "version": 3
   },
   "file_extension": ".py",
   "mimetype": "text/x-python",
   "name": "python",
   "nbconvert_exporter": "python",
   "pygments_lexer": "ipython3",
   "version": "3.9.11"
  }
 },
 "nbformat": 4,
 "nbformat_minor": 5
}
